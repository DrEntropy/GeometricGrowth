{
 "cells": [
  {
   "cell_type": "code",
   "execution_count": 1,
   "metadata": {},
   "outputs": [],
   "source": [
    "import pandas as pd\n",
    "import numpy as np\n",
    "import matplotlib.pyplot as plt"
   ]
  },
  {
   "cell_type": "markdown",
   "metadata": {},
   "source": [
    "# Geometric Growth\n",
    "Some random notes on geometric growth.  \n",
    "\n",
    "In general, a random variable $S$ is undergowing geometric growth if over some sufficiently short time period:\n",
    "\n",
    "$$\n",
    "S_{n} - S_{n-1} = \\Delta S_n = \\mu_i S_{n-1}\n",
    "$$\n",
    "\n",
    "Where $\\mu_i$ is a random growth rate which in general depends on the time period $\\Delta t$:\n",
    "\n",
    "$$\n",
    "\\mu_i = \\mu \\Delta t + \\sigma \\sqrt{\\left( \\Delta t \\right)}  \\epsilon_i\n",
    "$$\n",
    "\n",
    "where $\\epsilon_i$ is a random (normal) variable with mean zero, standard devation 1 and no autocorrelation\n",
    "\n",
    "The typical example is a stock where $\\mu$ is the stocks average return per unit time and $\\sigma$ is the standard deviation per square root unit time.  In the sequal we take $\\Delta t = 1$ \n",
    "\n",
    "We note that if the value of $S$ at the initial time is $S_0$, then we have:\n",
    "\n",
    "$$\n",
    "\\frac{S_i}{S_{i-1}} =  (1+\\mu_i)\n",
    "$$  \n",
    "\n",
    "So that:\n",
    "\n",
    "$$\n",
    "\\frac{S_N}{S_0} = \\prod_{i=1}^{N} (1+\\mu_i)\n",
    "$$\n",
    "\n",
    "So what do we mean by the 'average' growth? What we generally mean is what is the value $\\mu_g$ such that over N periods:\n",
    "\n",
    "$$\n",
    "(1+\\mu_g)^N = \\frac{S_N}{S_0} = \\prod_{i=1}^{N} (1+\\mu_i)\n",
    "$$\n",
    "\n",
    "So:\n",
    "\n",
    "$$\n",
    "\\mu_g  = \\left(\\prod_{i=1}^{N} (1+\\mu_i)\\right)^{1/N}-1\n",
    "$$\n",
    "\n",
    "This can be seen to be the geometric mean minus 1 of $1+\\mu_i$.  This is easier if we use the log, where we just need to take the normal average of the 'log returns' defined as $\\log(1+\\mu_i)$\n",
    "\n",
    "$$\n",
    "\\log(1+\\mu_g) = \\frac{1}{N} \\sum_{i=1}^{N} \\log(1+\\mu_i)\n",
    "$$\n",
    "\n",
    "\n",
    "Now we note in the usual case where $\\mu_i$ is small, we can use the approximation $\\log(1+x)=x - x^2/2 + O(x^3)$.   From this we can see that:\n",
    "\n",
    "$$\n",
    "\\hat{\\mu_i} \\equiv \\log(1+\\mu_i) = \\mu_i + O(\\mu_i^2)\n",
    "$$ \n",
    "\n",
    "So for small enough time steps, we expect these two types of returns to become close. So does it matter which one we use? Yes!\n",
    "\n",
    "Even though these log returns and simple returns are the same to lowest order, we have to be careful about forming expecations. To lowest order:\n",
    "\n",
    "$$\n",
    "\\mu_g = \\frac{1}{N} \\sum_{i=1}^{N} (\\mu_i - \\mu_i^2 + ...) = \\mu_a - \\sigma^2/2 + ....\n",
    "$$\n",
    "\n",
    "where $\\mu_a$ is the normal mean of returns, which in the limit should be $\\mu$ (remember $\\Delta t$ is 1)   This differnece between the 'geometric' mean and the 'arithmatic' mean is called often the 'volatility drag'. It can really make a difference if you make a mistake and use the wrong one.  \n",
    "\n",
    "On the other hand if you have the geometric mean $\\mu_g$ in hand, and you want to simulate the stock returns, you will want to correct it to $\\mu$ by adding $\\sigma^2/2$. Or better yet, simulate the log returns directly using (putting $\\Delta t$ back in for completeness):\n",
    "\n",
    "$$\n",
    "\\frac{S_n}{S_{n-1}} =  \\exp(\\mu_g \\Delta t + \\sigma \\epsilon_i \\sqrt{\\left( \\Delta t \\right)})\n",
    "$$  \n"
   ]
  },
  {
   "cell_type": "markdown",
   "metadata": {},
   "source": [
    "## Demonstration \n",
    "Let's generate some random normals to simulate stock returns over some short time interval.\n",
    "This represents $\\mu_n=\\frac {\\Delta S_n}{S_{n-1}}$  "
   ]
  },
  {
   "cell_type": "code",
   "execution_count": 2,
   "metadata": {},
   "outputs": [],
   "source": [
    "returns = pd.DataFrame({'simple_returns':np.random.normal(0,.2,100)})"
   ]
  },
  {
   "cell_type": "code",
   "execution_count": 3,
   "metadata": {},
   "outputs": [
    {
     "data": {
      "text/html": [
       "<div>\n",
       "<style scoped>\n",
       "    .dataframe tbody tr th:only-of-type {\n",
       "        vertical-align: middle;\n",
       "    }\n",
       "\n",
       "    .dataframe tbody tr th {\n",
       "        vertical-align: top;\n",
       "    }\n",
       "\n",
       "    .dataframe thead th {\n",
       "        text-align: right;\n",
       "    }\n",
       "</style>\n",
       "<table border=\"1\" class=\"dataframe\">\n",
       "  <thead>\n",
       "    <tr style=\"text-align: right;\">\n",
       "      <th></th>\n",
       "      <th>simple_returns</th>\n",
       "    </tr>\n",
       "  </thead>\n",
       "  <tbody>\n",
       "    <tr>\n",
       "      <th>0</th>\n",
       "      <td>-0.279837</td>\n",
       "    </tr>\n",
       "    <tr>\n",
       "      <th>1</th>\n",
       "      <td>0.219010</td>\n",
       "    </tr>\n",
       "    <tr>\n",
       "      <th>2</th>\n",
       "      <td>0.201320</td>\n",
       "    </tr>\n",
       "    <tr>\n",
       "      <th>3</th>\n",
       "      <td>-0.360230</td>\n",
       "    </tr>\n",
       "    <tr>\n",
       "      <th>4</th>\n",
       "      <td>0.232890</td>\n",
       "    </tr>\n",
       "  </tbody>\n",
       "</table>\n",
       "</div>"
      ],
      "text/plain": [
       "   simple_returns\n",
       "0       -0.279837\n",
       "1        0.219010\n",
       "2        0.201320\n",
       "3       -0.360230\n",
       "4        0.232890"
      ]
     },
     "execution_count": 3,
     "metadata": {},
     "output_type": "execute_result"
    }
   ],
   "source": [
    "returns.head()"
   ]
  },
  {
   "cell_type": "markdown",
   "metadata": {},
   "source": [
    "Since the total return is the product of factors like: $\\left( 1 + \\mu_n \\right)$, it is useful to use the power of the log to turn this into a sum:"
   ]
  },
  {
   "cell_type": "code",
   "execution_count": 4,
   "metadata": {},
   "outputs": [
    {
     "data": {
      "text/html": [
       "<div>\n",
       "<style scoped>\n",
       "    .dataframe tbody tr th:only-of-type {\n",
       "        vertical-align: middle;\n",
       "    }\n",
       "\n",
       "    .dataframe tbody tr th {\n",
       "        vertical-align: top;\n",
       "    }\n",
       "\n",
       "    .dataframe thead th {\n",
       "        text-align: right;\n",
       "    }\n",
       "</style>\n",
       "<table border=\"1\" class=\"dataframe\">\n",
       "  <thead>\n",
       "    <tr style=\"text-align: right;\">\n",
       "      <th></th>\n",
       "      <th>simple_returns</th>\n",
       "      <th>log_returns</th>\n",
       "    </tr>\n",
       "  </thead>\n",
       "  <tbody>\n",
       "    <tr>\n",
       "      <th>0</th>\n",
       "      <td>-0.279837</td>\n",
       "      <td>-0.328278</td>\n",
       "    </tr>\n",
       "    <tr>\n",
       "      <th>1</th>\n",
       "      <td>0.219010</td>\n",
       "      <td>0.198039</td>\n",
       "    </tr>\n",
       "    <tr>\n",
       "      <th>2</th>\n",
       "      <td>0.201320</td>\n",
       "      <td>0.183421</td>\n",
       "    </tr>\n",
       "    <tr>\n",
       "      <th>3</th>\n",
       "      <td>-0.360230</td>\n",
       "      <td>-0.446647</td>\n",
       "    </tr>\n",
       "    <tr>\n",
       "      <th>4</th>\n",
       "      <td>0.232890</td>\n",
       "      <td>0.209361</td>\n",
       "    </tr>\n",
       "  </tbody>\n",
       "</table>\n",
       "</div>"
      ],
      "text/plain": [
       "   simple_returns  log_returns\n",
       "0       -0.279837    -0.328278\n",
       "1        0.219010     0.198039\n",
       "2        0.201320     0.183421\n",
       "3       -0.360230    -0.446647\n",
       "4        0.232890     0.209361"
      ]
     },
     "execution_count": 4,
     "metadata": {},
     "output_type": "execute_result"
    }
   ],
   "source": [
    "returns['log_returns']= np.log(1+returns['simple_returns'])\n",
    "returns.head()"
   ]
  },
  {
   "cell_type": "markdown",
   "metadata": {},
   "source": [
    "Note that these are extremely close.   This makes sense because for small $r_n$ we know that $\\log(1+r_n) = r_n + O(r_n^2)$   However, one must be very careful ! Note:"
   ]
  },
  {
   "cell_type": "code",
   "execution_count": 5,
   "metadata": {},
   "outputs": [
    {
     "data": {
      "text/html": [
       "<div>\n",
       "<style scoped>\n",
       "    .dataframe tbody tr th:only-of-type {\n",
       "        vertical-align: middle;\n",
       "    }\n",
       "\n",
       "    .dataframe tbody tr th {\n",
       "        vertical-align: top;\n",
       "    }\n",
       "\n",
       "    .dataframe thead th {\n",
       "        text-align: right;\n",
       "    }\n",
       "</style>\n",
       "<table border=\"1\" class=\"dataframe\">\n",
       "  <thead>\n",
       "    <tr style=\"text-align: right;\">\n",
       "      <th></th>\n",
       "      <th>simple_returns</th>\n",
       "      <th>log_returns</th>\n",
       "    </tr>\n",
       "  </thead>\n",
       "  <tbody>\n",
       "    <tr>\n",
       "      <th>count</th>\n",
       "      <td>100.000000</td>\n",
       "      <td>100.000000</td>\n",
       "    </tr>\n",
       "    <tr>\n",
       "      <th>mean</th>\n",
       "      <td>-0.007239</td>\n",
       "      <td>-0.029639</td>\n",
       "    </tr>\n",
       "    <tr>\n",
       "      <th>std</th>\n",
       "      <td>0.207918</td>\n",
       "      <td>0.214854</td>\n",
       "    </tr>\n",
       "    <tr>\n",
       "      <th>min</th>\n",
       "      <td>-0.378686</td>\n",
       "      <td>-0.475918</td>\n",
       "    </tr>\n",
       "    <tr>\n",
       "      <th>25%</th>\n",
       "      <td>-0.168446</td>\n",
       "      <td>-0.184531</td>\n",
       "    </tr>\n",
       "    <tr>\n",
       "      <th>50%</th>\n",
       "      <td>-0.008665</td>\n",
       "      <td>-0.008704</td>\n",
       "    </tr>\n",
       "    <tr>\n",
       "      <th>75%</th>\n",
       "      <td>0.140440</td>\n",
       "      <td>0.131380</td>\n",
       "    </tr>\n",
       "    <tr>\n",
       "      <th>max</th>\n",
       "      <td>0.515247</td>\n",
       "      <td>0.415578</td>\n",
       "    </tr>\n",
       "  </tbody>\n",
       "</table>\n",
       "</div>"
      ],
      "text/plain": [
       "       simple_returns  log_returns\n",
       "count      100.000000   100.000000\n",
       "mean        -0.007239    -0.029639\n",
       "std          0.207918     0.214854\n",
       "min         -0.378686    -0.475918\n",
       "25%         -0.168446    -0.184531\n",
       "50%         -0.008665    -0.008704\n",
       "75%          0.140440     0.131380\n",
       "max          0.515247     0.415578"
      ]
     },
     "execution_count": 5,
     "metadata": {},
     "output_type": "execute_result"
    }
   ],
   "source": [
    "returns.describe()"
   ]
  },
  {
   "cell_type": "markdown",
   "metadata": {},
   "source": [
    "We can verify that the mean log returns and mean simple returns are different by $\\sigma^2/2$ as we derived above:"
   ]
  },
  {
   "cell_type": "code",
   "execution_count": 6,
   "metadata": {},
   "outputs": [
    {
     "name": "stdout",
     "output_type": "stream",
     "text": [
      "mean simple returns minus mean log returns: 0.02239999881923006, sigma^2/2:       0.021614884933127576\n"
     ]
    }
   ],
   "source": [
    "print(f\"mean simple returns minus mean log returns: {returns['simple_returns'].mean()-returns['log_returns'].mean()}, sigma^2/2:\\\n",
    "       {returns['simple_returns'].std()**2/2}\")"
   ]
  },
  {
   "cell_type": "markdown",
   "metadata": {},
   "source": [
    "Also lets verify that the cumulative product $\\prod_{i=1}^{N} (1+\\mu_i)$ is the same as the exponential of the cumulative sum of the log returns."
   ]
  },
  {
   "cell_type": "code",
   "execution_count": 7,
   "metadata": {},
   "outputs": [
    {
     "data": {
      "text/html": [
       "<div>\n",
       "<style scoped>\n",
       "    .dataframe tbody tr th:only-of-type {\n",
       "        vertical-align: middle;\n",
       "    }\n",
       "\n",
       "    .dataframe tbody tr th {\n",
       "        vertical-align: top;\n",
       "    }\n",
       "\n",
       "    .dataframe thead th {\n",
       "        text-align: right;\n",
       "    }\n",
       "</style>\n",
       "<table border=\"1\" class=\"dataframe\">\n",
       "  <thead>\n",
       "    <tr style=\"text-align: right;\">\n",
       "      <th></th>\n",
       "      <th>simple_returns</th>\n",
       "      <th>log_returns</th>\n",
       "      <th>cum_return_from_log</th>\n",
       "      <th>cum_return_from_simp</th>\n",
       "    </tr>\n",
       "  </thead>\n",
       "  <tbody>\n",
       "    <tr>\n",
       "      <th>95</th>\n",
       "      <td>-0.152525</td>\n",
       "      <td>-0.165494</td>\n",
       "      <td>0.115485</td>\n",
       "      <td>0.115485</td>\n",
       "    </tr>\n",
       "    <tr>\n",
       "      <th>96</th>\n",
       "      <td>-0.378686</td>\n",
       "      <td>-0.475918</td>\n",
       "      <td>0.071752</td>\n",
       "      <td>0.071752</td>\n",
       "    </tr>\n",
       "    <tr>\n",
       "      <th>97</th>\n",
       "      <td>-0.239509</td>\n",
       "      <td>-0.273791</td>\n",
       "      <td>0.054567</td>\n",
       "      <td>0.054567</td>\n",
       "    </tr>\n",
       "    <tr>\n",
       "      <th>98</th>\n",
       "      <td>0.053595</td>\n",
       "      <td>0.052208</td>\n",
       "      <td>0.057492</td>\n",
       "      <td>0.057492</td>\n",
       "    </tr>\n",
       "    <tr>\n",
       "      <th>99</th>\n",
       "      <td>-0.102141</td>\n",
       "      <td>-0.107743</td>\n",
       "      <td>0.051619</td>\n",
       "      <td>0.051619</td>\n",
       "    </tr>\n",
       "  </tbody>\n",
       "</table>\n",
       "</div>"
      ],
      "text/plain": [
       "    simple_returns  log_returns  cum_return_from_log  cum_return_from_simp\n",
       "95       -0.152525    -0.165494             0.115485              0.115485\n",
       "96       -0.378686    -0.475918             0.071752              0.071752\n",
       "97       -0.239509    -0.273791             0.054567              0.054567\n",
       "98        0.053595     0.052208             0.057492              0.057492\n",
       "99       -0.102141    -0.107743             0.051619              0.051619"
      ]
     },
     "execution_count": 7,
     "metadata": {},
     "output_type": "execute_result"
    }
   ],
   "source": [
    "returns['cum_return_from_log'] = np.exp(returns['log_returns'].cumsum())\n",
    "returns['cum_return_from_simp'] =  (1+returns['simple_returns']).cumprod()\n",
    "returns.tail()"
   ]
  },
  {
   "cell_type": "markdown",
   "metadata": {},
   "source": [
    "After N time steps, the resulting distribution of $\\frac{S_N}{S_0}$ can be shown to be lognormal  median $(1+\\mu_g)^N \\approx \\exp(N \\mu_g)$ and with mean $\\exp(N \\mu_a)$. Let us verify that. "
   ]
  },
  {
   "cell_type": "code",
   "execution_count": 8,
   "metadata": {},
   "outputs": [],
   "source": [
    "# Takes geometric mean growth.\n",
    "def simulate(mug,sigma,steps):\n",
    "    data= np.random.normal(mug,sigma,steps)\n",
    "    return np.exp(data.sum())\n",
    "    "
   ]
  },
  {
   "cell_type": "markdown",
   "metadata": {},
   "source": [
    "In the case we simulated above $\\mu_a$ is zero, and $\\mu_g$ is $-\\sigma^2/2$ where $\\sigma$ was 0.2 . Here I will put instead $\\mu_g$ to be 0.08, so we expect $\\mu_a$ to be :"
   ]
  },
  {
   "cell_type": "code",
   "execution_count": 9,
   "metadata": {},
   "outputs": [
    {
     "data": {
      "text/plain": [
       "0.1"
      ]
     },
     "execution_count": 9,
     "metadata": {},
     "output_type": "execute_result"
    }
   ],
   "source": [
    ".2**2/2.+.08"
   ]
  },
  {
   "cell_type": "code",
   "execution_count": 10,
   "metadata": {},
   "outputs": [],
   "source": [
    "testdata = [simulate(0.08,.2,100) for i in range(10000)]"
   ]
  },
  {
   "cell_type": "code",
   "execution_count": 11,
   "metadata": {},
   "outputs": [
    {
     "data": {
      "image/png": "[encoded data removed]",
      "text/plain": [
       "<Figure size 432x288 with 1 Axes>"
      ]
     },
     "metadata": {
      "needs_background": "light"
     },
     "output_type": "display_data"
    }
   ],
   "source": [
    "plt.hist(testdata,bins=50,range=(0,10000));"
   ]
  },
  {
   "cell_type": "code",
   "execution_count": 90,
   "metadata": {},
   "outputs": [
    {
     "name": "stdout",
     "output_type": "stream",
     "text": [
      "Average final value 19915.776516625607, prediction: 22026.465794806718\n",
      "Meidan final value: 3157.6094196757376, prediction: 2980.9579870417283\n"
     ]
    }
   ],
   "source": [
    "print(f\"Average final value {np.mean(testdata)}, prediction: {np.exp(.1*100)}\")\n",
    "print(f\"Meidan final value: {np.median(testdata)}, prediction: {np.exp(.08*100)}\")"
   ]
  },
  {
   "cell_type": "markdown",
   "metadata": {},
   "source": [
    "Note that these two values are quite different.  The question you might ask, which one best describes the final distribution?  I hope it is obvious from looking at the historgram that the average final value is quite useless.\n",
    "\n",
    "Verify the distribution appears lognormal, and note that the mean of the log is right at 8 as you would expect from above."
   ]
  },
  {
   "cell_type": "code",
   "execution_count": 87,
   "metadata": {},
   "outputs": [
    {
     "data": {
      "image/png": "[encoded data removed]",
      "text/plain": [
       "<Figure size 432x288 with 1 Axes>"
      ]
     },
     "metadata": {
      "needs_background": "light"
     },
     "output_type": "display_data"
    }
   ],
   "source": [
    "plt.hist(np.log(testdata),bins=50);"
   ]
  },
  {
   "cell_type": "markdown",
   "metadata": {},
   "source": []
  }
 ],
 "metadata": {
  "interpreter": {
   "hash": "0bc2dd3acd3a7f26279b1918fd7c0dd2a0fc9ed3e01daae9cf086728da64019e"
  },
  "kernelspec": {
   "display_name": "Python 3 (ipykernel)",
   "language": "python",
   "name": "python3"
  },
  "language_info": {
   "codemirror_mode": {
    "name": "ipython",
    "version": 3
   },
   "file_extension": ".py",
   "mimetype": "text/x-python",
   "name": "python",
   "nbconvert_exporter": "python",
   "pygments_lexer": "ipython3",
   "version": "3.7.11"
  }
 },
 "nbformat": 4,
 "nbformat_minor": 4
}
